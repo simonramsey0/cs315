{
  "nbformat": 4,
  "nbformat_minor": 0,
  "metadata": {
    "colab": {
      "provenance": []
    },
    "kernelspec": {
      "name": "python3",
      "display_name": "Python 3"
    },
    "language_info": {
      "name": "python"
    }
  },
  "cells": [
    {
      "cell_type": "code",
      "execution_count": null,
      "metadata": {
        "id": "tZGwopH4Y7oL"
      },
      "outputs": [],
      "source": [
        "# Template for testing Selection Sort on small lists, outputing each intermediate step"
      ]
    },
    {
      "cell_type": "code",
      "source": [
        "import random"
      ],
      "metadata": {
        "id": "fSME9MywceAq"
      },
      "execution_count": 1,
      "outputs": []
    },
    {
      "cell_type": "code",
      "source": [
        "def selection(A: list, print_flag: bool) -> None:\n",
        "  n = len(A)\n",
        "  for i in range(n - 2):\n",
        "    smallest = i\n",
        "    for j in range(i + 1, n):\n",
        "      if A[smallest] > A[j]:\n",
        "        smallest = j\n",
        "    A[i], A[smallest] = A[smallest], A[i]\n",
        "    if print_flag:\n",
        "      print(A)\n",
        "\n",
        "# for your convenience, the psuedocode from class is provided, and note that you don't really need line 1, you can handle that in the outer for loop statement\n",
        "#n = length[A]\n",
        "#for i=1 to n-1:\n",
        "#   smallest = i\n",
        "#   for j=i+1 to n:\n",
        "#      if A[smallest] > A[j]\n",
        "#         then smallest = j\n",
        "#   Swap A[i] with A[smallest]"
      ],
      "metadata": {
        "id": "TJZL4jFQZhAp"
      },
      "execution_count": 6,
      "outputs": []
    },
    {
      "cell_type": "code",
      "source": [
        "N=8\n",
        "A = list(range(N))\n",
        "\n",
        "random.shuffle(A)\n",
        "\n",
        "print(A)\n",
        "selection(A,True)\n",
        "print(A)"
      ],
      "metadata": {
        "id": "f1GS3NjwZqmS",
        "outputId": "a0956ea9-863a-476c-84d1-dfd2d1d0ad73",
        "colab": {
          "base_uri": "https://localhost:8080/"
        }
      },
      "execution_count": 16,
      "outputs": [
        {
          "output_type": "stream",
          "name": "stdout",
          "text": [
            "[7, 0, 6, 4, 1, 3, 2, 5]\n",
            "[0, 7, 6, 4, 1, 3, 2, 5]\n",
            "[0, 1, 6, 4, 7, 3, 2, 5]\n",
            "[0, 1, 2, 4, 7, 3, 6, 5]\n",
            "[0, 1, 2, 3, 7, 4, 6, 5]\n",
            "[0, 1, 2, 3, 4, 7, 6, 5]\n",
            "[0, 1, 2, 3, 4, 5, 6, 7]\n",
            "[0, 1, 2, 3, 4, 5, 6, 7]\n"
          ]
        }
      ]
    }
  ]
}