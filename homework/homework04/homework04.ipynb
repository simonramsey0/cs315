{
 "cells": [
  {
   "cell_type": "markdown",
   "id": "ff30cacb",
   "metadata": {},
   "source": [
    "## Assignment 4\n",
    "### Simon Ramsey\n",
    "10/1/2025\\\n",
    "\\\n",
    "This jupyter notebook is demonstrating the differences in run time of different sort methods.\\\n",
    "(Quick Sort, Merge Sort, Insertion Sort, Selection Sort, and native python sort)"
   ]
  },
  {
   "cell_type": "markdown",
   "id": "163c2e94",
   "metadata": {},
   "source": [
    "---"
   ]
  },
  {
   "cell_type": "code",
   "execution_count": 1,
   "id": "48baf712",
   "metadata": {},
   "outputs": [],
   "source": [
    "import time as t\n",
    "import random\n",
    "import math"
   ]
  },
  {
   "cell_type": "code",
   "execution_count": 2,
   "id": "06fff829",
   "metadata": {},
   "outputs": [],
   "source": [
    "def time(func, *args) -> float:\n",
    "  start = t.time()\n",
    "  func(*args)\n",
    "  end = t.time()\n",
    "  return end - start"
   ]
  },
  {
   "cell_type": "code",
   "execution_count": 3,
   "id": "d8a268a6",
   "metadata": {},
   "outputs": [],
   "source": [
    "# Selection Sort\n",
    "def selection(A: list, print_flag: bool) -> None:\n",
    "  n = len(A)\n",
    "  for i in range(n - 2):\n",
    "    smallest = i\n",
    "    for j in range(i + 1, n):\n",
    "      if A[smallest] > A[j]:\n",
    "        smallest = j\n",
    "    A[i], A[smallest] = A[smallest], A[i]\n",
    "    if print_flag:\n",
    "      print(A)"
   ]
  },
  {
   "cell_type": "code",
   "execution_count": 4,
   "id": "75c2e08d",
   "metadata": {},
   "outputs": [],
   "source": [
    "# Insertion Sort\n",
    "def insertion_sort(A:list, print_flag: bool) -> None:\n",
    "    n = len(A)\n",
    "    for i in range(1, n):\n",
    "        key = A[i]\n",
    "        j = i - 1\n",
    "        while j > 0 and key < A[j]:\n",
    "            A[j + 1] = A[j]\n",
    "            j -= 1\n",
    "        A[j + 1] = key\n",
    "    if print_flag:\n",
    "        print(A)"
   ]
  },
  {
   "cell_type": "code",
   "execution_count": 5,
   "id": "d32db624",
   "metadata": {},
   "outputs": [],
   "source": [
    "# Merge Sort\n",
    "def Merge(A,p,q,r):\n",
    "    nL = q-p+1\n",
    "    nR = r-q\n",
    "    Left = []\n",
    "    Right = []\n",
    "\n",
    "    for i in range(nL):\n",
    "        Left.append(A[p+i])\n",
    "    for j in range(nR):\n",
    "        Right.append(A[q+j+1])\n",
    "\n",
    "    i=0\n",
    "    j=0\n",
    "    k=p\n",
    "    while i<nL and j<nR:\n",
    "        if (Left[i]<=Right[j]):\n",
    "            A[k]=Left[i]\n",
    "            i+=1\n",
    "        else:\n",
    "            A[k]=Right[j]\n",
    "            j+=1\n",
    "        k+=1\n",
    "\n",
    "    while i< nL:\n",
    "        A[k]=Left[i]\n",
    "        i+=1\n",
    "        k+=1\n",
    "    while j< nR:\n",
    "        A[k]=Right[j]\n",
    "        j+=1\n",
    "        k+=1\n",
    "\n",
    "    return\n",
    "\n",
    "def Mergesort(A,p,r,print_flag):\n",
    "    if p >= r:\n",
    "        return\n",
    "    q = (p+r)//2\n",
    "\n",
    "    # Modify the following three calls:\n",
    "    Mergesort(A, p, q, print_flag)\n",
    "    Mergesort(A, q+1, r, print_flag)\n",
    "    Merge(A, p, q, r)\n",
    "\n",
    "    if print_flag:\n",
    "      print(A)\n",
    "    return"
   ]
  },
  {
   "cell_type": "code",
   "execution_count": 6,
   "id": "2d29c44c",
   "metadata": {},
   "outputs": [],
   "source": [
    "# Quick Sort\n",
    "def Partition(A,p,r):\n",
    "    x = A[r]\n",
    "    i = p - 1\n",
    "    for j in range(p,r):\n",
    "        if ( A[j] <= x ):\n",
    "            i = i + 1\n",
    "            #swap A[i] <--> A[j]\n",
    "            temp=A[i]\n",
    "            A[i]=A[j]\n",
    "            A[j]=temp\n",
    "    #swap A[i+1] <--> A[r]\n",
    "    temp=A[i+1]\n",
    "    A[i+1]=A[r]\n",
    "    A[r]=temp\n",
    "\n",
    "    return i + 1\n",
    "\n",
    "def Quicksort(A,p,r,print_flag):\n",
    "    if p < r:\n",
    "        q  = Partition(A , p , r)\n",
    "        if print_flag:\n",
    "            print(A)\n",
    "        Quicksort(A , p , q-1,print_flag)\n",
    "        Quicksort(A , q+1 , r,print_flag)"
   ]
  },
  {
   "cell_type": "markdown",
   "id": "1463feba",
   "metadata": {},
   "source": [
    "---"
   ]
  },
  {
   "cell_type": "code",
   "execution_count": 12,
   "id": "9a47c7d5",
   "metadata": {},
   "outputs": [
    {
     "name": "stdout",
     "output_type": "stream",
     "text": [
      "Selection Sort took 0.000425 seconds.\n",
      "Ratio between actual time and theoretical time: 0.0000000425\n",
      "\n",
      "Insertion Sort took 0.000353 seconds.\n",
      "Ratio between actual time and theoretical time: 0.0000000353\n",
      "\n",
      "Merge Sort took 0.000277 seconds.\n",
      "Ratio between actual time and theoretical time: 0.0000004166\n",
      "\n",
      "Quick Sort took 0.000116 seconds.\n",
      "Ratio between actual time and theoretical time: 0.0000001748\n",
      "\n",
      "Native Python Sort took 0.000025 seconds.\n",
      "Ratio between actual time and theoretical time: 0.0000000373\n",
      "\n"
     ]
    }
   ],
   "source": [
    "# Random Lists\n",
    "arr = [random.randint(0, 1000) for _ in range(100)]\n",
    "\n",
    "# Selection Sort\n",
    "arr_copy = arr.copy()\n",
    "elapsed_time = time(selection, arr_copy, False)\n",
    "print(f\"Selection Sort took {elapsed_time:.6f} seconds.\")\n",
    "print(f\"Ratio between actual time and theoretical time: {elapsed_time / (len(arr_copy) ** 2):.10f}\\n\")\n",
    "\n",
    "# Insertion Sort\n",
    "arr_copy = arr.copy()\n",
    "elapsed_time = time(insertion_sort, arr_copy, False)\n",
    "print(f\"Insertion Sort took {elapsed_time:.6f} seconds.\")\n",
    "print(f\"Ratio between actual time and theoretical time: {elapsed_time / (len(arr_copy) ** 2):.10f}\\n\")\n",
    "\n",
    "\n",
    "# Merge Sort\n",
    "arr_copy = arr.copy()\n",
    "elapsed_time = time(Mergesort, arr_copy, 0, len(arr_copy) - 1, False)\n",
    "print(f\"Merge Sort took {elapsed_time:.6f} seconds.\")\n",
    "print(f\"Ratio between actual time and theoretical time: {elapsed_time / (len(arr_copy) * math.log(len(arr_copy), 2)):.10f}\\n\")\n",
    "\n",
    "# Quick Sort\n",
    "arr_copy = arr.copy()\n",
    "elapsed_time = time(Quicksort, arr_copy, 0, len(arr_copy) - 1, False)\n",
    "print(f\"Quick Sort took {elapsed_time:.6f} seconds.\")\n",
    "print(f\"Ratio between actual time and theoretical time: {elapsed_time / (len(arr_copy) * math.log(len(arr_copy), 2)):.10f}\\n\")\n",
    "\n",
    "# Native Python Sort\n",
    "arr_copy = arr.copy()\n",
    "elapsed_time = time(sorted, arr_copy)\n",
    "print(f\"Native Python Sort took {elapsed_time:.6f} seconds.\")\n",
    "print(f\"Ratio between actual time and theoretical time: {elapsed_time / (len(arr_copy) * math.log(len(arr_copy), 2)):.10f}\\n\")\n"
   ]
  },
  {
   "cell_type": "code",
   "execution_count": 14,
   "id": "993888b8",
   "metadata": {},
   "outputs": [
    {
     "name": "stdout",
     "output_type": "stream",
     "text": [
      "Selection Sort took 0.000223 seconds.\n",
      "Ratio between actual time and theoretical time: 0.0000000223\n",
      "\n",
      "Insertion Sort took 0.000012 seconds.\n",
      "Ratio between actual time and theoretical time: 0.0000000012\n",
      "\n",
      "Merge Sort took 0.000169 seconds.\n",
      "Ratio between actual time and theoretical time: 0.0000002541\n",
      "\n",
      "Quick Sort took 0.000439 seconds.\n",
      "Ratio between actual time and theoretical time: 0.0000006610\n",
      "\n",
      "Native Python Sort took 0.000003 seconds.\n",
      "Ratio between actual time and theoretical time: 0.0000000047\n",
      "\n"
     ]
    }
   ],
   "source": [
    "# Sorted Lists\n",
    "arr = [i for i in range(100)]\n",
    "\n",
    "# Selection Sort\n",
    "arr_copy = arr.copy()\n",
    "elapsed_time = time(selection, arr_copy, False)\n",
    "print(f\"Selection Sort took {elapsed_time:.6f} seconds.\")\n",
    "print(f\"Ratio between actual time and theoretical time: {elapsed_time / (len(arr_copy) ** 2):.10f}\\n\")\n",
    "\n",
    "# Insertion Sort\n",
    "arr_copy = arr.copy()\n",
    "elapsed_time = time(insertion_sort, arr_copy, False)\n",
    "print(f\"Insertion Sort took {elapsed_time:.6f} seconds.\")\n",
    "print(f\"Ratio between actual time and theoretical time: {elapsed_time / (len(arr_copy) ** 2):.10f}\\n\")\n",
    "\n",
    "\n",
    "# Merge Sort\n",
    "arr_copy = arr.copy()\n",
    "elapsed_time = time(Mergesort, arr_copy, 0, len(arr_copy) - 1, False)\n",
    "print(f\"Merge Sort took {elapsed_time:.6f} seconds.\")\n",
    "print(f\"Ratio between actual time and theoretical time: {elapsed_time / (len(arr_copy) * math.log(len(arr_copy), 2)):.10f}\\n\")\n",
    "\n",
    "# Quick Sort\n",
    "arr_copy = arr.copy()\n",
    "elapsed_time = time(Quicksort, arr_copy, 0, len(arr_copy) - 1, False)\n",
    "print(f\"Quick Sort took {elapsed_time:.6f} seconds.\")\n",
    "print(f\"Ratio between actual time and theoretical time: {elapsed_time / (len(arr_copy) * math.log(len(arr_copy), 2)):.10f}\\n\")\n",
    "\n",
    "# Native Python Sort\n",
    "arr_copy = arr.copy()\n",
    "elapsed_time = time(sorted, arr_copy)\n",
    "print(f\"Native Python Sort took {elapsed_time:.6f} seconds.\")\n",
    "print(f\"Ratio between actual time and theoretical time: {elapsed_time / (len(arr_copy) * math.log(len(arr_copy), 2)):.10f}\\n\")\n"
   ]
  },
  {
   "cell_type": "code",
   "execution_count": 111,
   "id": "70c48858",
   "metadata": {},
   "outputs": [
    {
     "name": "stdout",
     "output_type": "stream",
     "text": [
      "problem size: 100 | n: 0.000000088214874, n^2: 0.000000000882149, n*lg(n): 0.000000013277662\n",
      "\n",
      "problem size: 1000 | n: 0.000000011205673, n^2: 0.000000000011206, n*lg(n): 0.000000001124415\n",
      "\n",
      "problem size: 2500 | n: 0.000000018405914, n^2: 0.000000000007362, n*lg(n): 0.000000001630615\n",
      "\n",
      "problem size: 5000 | n: 0.000000011205673, n^2: 0.000000000002241, n*lg(n): 0.000000000911941\n",
      "\n",
      "problem size: 7500 | n: 0.000000028546651, n^2: 0.000000000003806, n*lg(n): 0.000000002217616\n",
      "\n",
      "problem size: 10000 | n: 0.000000011372566, n^2: 0.000000000001137, n*lg(n): 0.000000000855871\n",
      "\n",
      "problem size: 15000 | n: 0.000000009743373, n^2: 0.000000000000650, n*lg(n): 0.000000000702343\n",
      "\n",
      "problem size: 20000 | n: 0.000000009739399, n^2: 0.000000000000487, n*lg(n): 0.000000000681663\n",
      "\n",
      "problem size: 50000 | n: 0.000000012516975, n^2: 0.000000000000250, n*lg(n): 0.000000000801875\n",
      "\n"
     ]
    }
   ],
   "source": [
    "# Python's built-in sort\n",
    "for n in [100, 1000, 2500, 5000, 7500, 10000, 15000, 20000, 50000]:\n",
    "    arr = [i for i in range(n)]\n",
    "    elapsed_time = time(sorted, arr)\n",
    "    n_ratio = elapsed_time / len(arr)\n",
    "    n_squared_ratio = elapsed_time / (len(arr) ** 2)\n",
    "    n_lg_n_ratio = elapsed_time / (len(arr) * math.log(len(arr), 2))\n",
    "    print(f\"problem size: {n} | n: {n_ratio:.15f}, n^2: {n_squared_ratio:.15f}, n*lg(n): {n_lg_n_ratio:.15f}\\n\")\n",
    "\n"
   ]
  },
  {
   "cell_type": "markdown",
   "id": "ae37fa40",
   "metadata": {},
   "source": [
    "To find the 'correct' theoretical run time for the built in sort function I checked different run times (n, n^2, n*lg(n)). Doing multiple runs I the ratio test showed that at n\\*lg(n) the ratio started to stabalize. Comparing that to different theoretical run times which did not see much stabilization.\\\n",
    "Based on that, we can make the assumption that n*lg(n) is a decent estimate for the theoretical run time for the built in sort function."
   ]
  }
 ],
 "metadata": {
  "kernelspec": {
   "display_name": "3.13.0",
   "language": "python",
   "name": "python3"
  },
  "language_info": {
   "codemirror_mode": {
    "name": "ipython",
    "version": 3
   },
   "file_extension": ".py",
   "mimetype": "text/x-python",
   "name": "python",
   "nbconvert_exporter": "python",
   "pygments_lexer": "ipython3",
   "version": "3.13.0"
  }
 },
 "nbformat": 4,
 "nbformat_minor": 5
}
