{
  "cells": [
    {
      "cell_type": "markdown",
      "id": "cacb8b13",
      "metadata": {
        "id": "cacb8b13"
      },
      "source": [
        "Homework 06 -> Question 2\\\n",
        "Simon Ramsey\\\n",
        "10/30/25"
      ]
    },
    {
      "cell_type": "markdown",
      "id": "c5594dcf",
      "metadata": {
        "id": "c5594dcf"
      },
      "source": [
        "---"
      ]
    },
    {
      "cell_type": "code",
      "execution_count": 6,
      "id": "3862b767",
      "metadata": {
        "id": "3862b767"
      },
      "outputs": [],
      "source": [
        "import random\n",
        "import numpy as np\n",
        "import time"
      ]
    },
    {
      "cell_type": "code",
      "execution_count": 9,
      "id": "0a51170f",
      "metadata": {
        "id": "0a51170f"
      },
      "outputs": [],
      "source": [
        "def quickselect(A, i):\n",
        "  if len(A) == 1:\n",
        "    return A[0]\n",
        "\n",
        "  pivot = random.choice(A)\n",
        "  lows = [x for x in A if x < pivot]\n",
        "  highs = [x for x in A if x > pivot]\n",
        "  pivots = [x for x in A if x == pivot]\n",
        "\n",
        "  if i <= len(lows):\n",
        "    return quickselect(lows, i)\n",
        "  elif i <= len(lows) + len(pivots):\n",
        "    return pivot\n",
        "  else:\n",
        "    return quickselect(highs, i - len(lows) - len(pivots))"
      ]
    },
    {
      "cell_type": "markdown",
      "source": [
        "Tests with middle element passed as *i*"
      ],
      "metadata": {
        "id": "cNn4KpPK8yp5"
      },
      "id": "cNn4KpPK8yp5"
    },
    {
      "cell_type": "code",
      "execution_count": 70,
      "id": "161757ce",
      "metadata": {
        "colab": {
          "base_uri": "https://localhost:8080/"
        },
        "id": "161757ce",
        "outputId": "e8a300ee-b00b-4207-ba55-2746274c11df"
      },
      "outputs": [
        {
          "output_type": "stream",
          "name": "stdout",
          "text": [
            "N: 3 Time: 4.1710000004968606e-05 Ratio (N): 1.3903333334989535e-05 Ratio (N^2): 4.634444444996512e-06\n",
            "N: 9 Time: 2.078099987556925e-05 Ratio (N): 2.3089999861743613e-06 Ratio (N^2): 2.565555540193735e-07\n",
            "N: 27 Time: 5.003099977329839e-05 Ratio (N): 1.8529999916036441e-06 Ratio (N^2): 6.862962931865348e-08\n",
            "N: 81 Time: 6.230100007087458e-05 Ratio (N): 7.69148149023143e-07 Ratio (N^2): 9.495656160779543e-09\n",
            "N: 243 Time: 0.00015141999983825372 Ratio (N): 6.231275713508384e-07 Ratio (N^2): 2.5643109932133265e-09\n",
            "N: 729 Time: 0.0005926019998696574 Ratio (N): 8.128971191627675e-07 Ratio (N^2): 1.1150852114715602e-09\n",
            "N: 2187 Time: 0.0008476390003124834 Ratio (N): 3.875807043038333e-07 Ratio (N^2): 1.7722025802644413e-10\n",
            "N: 6561 Time: 0.0037964880002618884 Ratio (N): 5.786447188327828e-07 Ratio (N^2): 8.819459210985869e-11\n",
            "N: 19683 Time: 0.007578715999898122 Ratio (N): 3.8503866280029073e-07 Ratio (N^2): 1.9561990692490512e-11\n",
            "N: 59049 Time: 0.029482439000275917 Ratio (N): 4.992876932763622e-07 Ratio (N^2): 8.455480927303803e-12\n"
          ]
        }
      ],
      "source": [
        "# sorted data\n",
        "\n",
        "for n in range(10):\n",
        "  N = 3 ** (n + 1)\n",
        "\n",
        "  A = np.arange(N)\n",
        "\n",
        "  start_time = time.perf_counter()\n",
        "  found = quickselect(A, N // 2)\n",
        "  end_time = time.perf_counter()\n",
        "\n",
        "  print(f\"N: {N} Time: {end_time - start_time} Ratio (N): {(end_time - start_time) / N} Ratio (N^2): {(end_time - start_time) / N**2}\")"
      ]
    },
    {
      "cell_type": "code",
      "execution_count": 63,
      "id": "e3e02084",
      "metadata": {
        "colab": {
          "base_uri": "https://localhost:8080/"
        },
        "id": "e3e02084",
        "outputId": "40049bef-1722-4cc8-91fd-0bf8ed30d40d"
      },
      "outputs": [
        {
          "output_type": "stream",
          "name": "stdout",
          "text": [
            "N: 3 Time: 2.6190999960817862e-05 Ratio (N): 8.73033332027262e-06 Ratio (N^2): 2.9101111067575403e-06\n",
            "N: 9 Time: 2.0429999949556077e-05 Ratio (N): 2.2699999943951197e-06 Ratio (N^2): 2.5222222159945774e-07\n",
            "N: 27 Time: 4.632699983631028e-05 Ratio (N): 1.7158148087522325e-06 Ratio (N^2): 6.354869662045305e-08\n",
            "N: 81 Time: 0.00010894500019276165 Ratio (N): 1.3450000023797734e-06 Ratio (N^2): 1.660493830098486e-08\n",
            "N: 243 Time: 0.00018032999969364027 Ratio (N): 7.420987641713591e-07 Ratio (N^2): 3.0539043793060046e-09\n",
            "N: 729 Time: 0.00048344400011046673 Ratio (N): 6.631604939786924e-07 Ratio (N^2): 9.096851769255039e-10\n",
            "N: 2187 Time: 0.0017753510001057293 Ratio (N): 8.117745770945264e-07 Ratio (N^2): 3.711817910811735e-10\n",
            "N: 6561 Time: 0.004122026999993977 Ratio (N): 6.282620027425663e-07 Ratio (N^2): 9.575704964831066e-11\n",
            "N: 19683 Time: 0.014016748000358348 Ratio (N): 7.121245745241247e-07 Ratio (N^2): 3.617967660032133e-11\n",
            "N: 59049 Time: 0.06305993700016188 Ratio (N): 1.0679255702918234e-06 Ratio (N^2): 1.808541330576002e-11\n"
          ]
        }
      ],
      "source": [
        "# randomized data\n",
        "\n",
        "for n in range(10):\n",
        "  N = 3 ** (n + 1)\n",
        "\n",
        "  A = np.arange(0, N)\n",
        "  np.random.shuffle(A)\n",
        "\n",
        "  start_time = time.perf_counter()\n",
        "  found = quickselect(A, N // 2)\n",
        "  end_time = time.perf_counter()\n",
        "\n",
        "  print(f\"N: {N} Time: {end_time - start_time} Ratio (N): {(end_time - start_time) / N} Ratio (N^2): {(end_time - start_time) / N**2}\")\n",
        "\n",
        "\n"
      ]
    },
    {
      "cell_type": "code",
      "execution_count": 64,
      "id": "1bf27675",
      "metadata": {
        "colab": {
          "base_uri": "https://localhost:8080/"
        },
        "id": "1bf27675",
        "outputId": "1fa4d481-a44a-4915-9d61-1f8a5829ef27"
      },
      "outputs": [
        {
          "output_type": "stream",
          "name": "stdout",
          "text": [
            "N: 3 Time: 3.3569999686733354e-05 Ratio (N): 1.1189999895577785e-05 Ratio (N^2): 3.729999965192595e-06\n",
            "N: 9 Time: 2.4869000299077015e-05 Ratio (N): 2.7632222554530017e-06 Ratio (N^2): 3.0702469505033355e-07\n",
            "N: 27 Time: 3.920500012100092e-05 Ratio (N): 1.4520370415185525e-06 Ratio (N^2): 5.377914968587232e-08\n",
            "N: 81 Time: 8.439200018983684e-05 Ratio (N): 1.0418765455535412e-06 Ratio (N^2): 1.286267340189557e-08\n",
            "N: 243 Time: 0.0002172749996134371 Ratio (N): 8.94135800878342e-07 Ratio (N^2): 3.679571197030214e-09\n",
            "N: 729 Time: 0.00042417400027261465 Ratio (N): 5.818573391942588e-07 Ratio (N^2): 7.981582156299847e-10\n",
            "N: 2187 Time: 0.0009409080003024428 Ratio (N): 4.3022770932896336e-07 Ratio (N^2): 1.9672048894785703e-10\n",
            "N: 6561 Time: 0.0026265540000167675 Ratio (N): 4.003283036148099e-07 Ratio (N^2): 6.10163547652507e-11\n",
            "N: 19683 Time: 0.018645613999979105 Ratio (N): 9.472953309952296e-07 Ratio (N^2): 4.812758883276074e-11\n",
            "N: 59049 Time: 0.043496862999745645 Ratio (N): 7.366231942919549e-07 Ratio (N^2): 1.247477847706066e-11\n"
          ]
        }
      ],
      "source": [
        "# reverse sorted data\n",
        "\n",
        "for n in range(10):\n",
        "  N = 3 ** (n + 1)\n",
        "\n",
        "  A = np.arange(N, 0, -1)\n",
        "\n",
        "  start_time = time.perf_counter()\n",
        "  found = quickselect(A, N // 2)\n",
        "  end_time = time.perf_counter()\n",
        "\n",
        "  print(f\"N: {N} Time: {end_time - start_time} Ratio (N): {(end_time - start_time) / N} Ratio (N^2): {(end_time - start_time) / N**2}\")\n",
        "\n"
      ]
    },
    {
      "cell_type": "markdown",
      "source": [
        "Testing pre sorted, random, and reverse sorted data with the middle element as *i*, the data converges on the average case of Θ(N)."
      ],
      "metadata": {
        "id": "-Ie6PAIg7oaX"
      },
      "id": "-Ie6PAIg7oaX"
    },
    {
      "cell_type": "markdown",
      "source": [
        "\n",
        "\n",
        "---\n",
        "\n"
      ],
      "metadata": {
        "id": "yKzDNHSs9NVs"
      },
      "id": "yKzDNHSs9NVs"
    },
    {
      "cell_type": "markdown",
      "source": [
        "Tests with the first element passed as *i*"
      ],
      "metadata": {
        "id": "fvVj7J5o9D2Y"
      },
      "id": "fvVj7J5o9D2Y"
    },
    {
      "cell_type": "code",
      "source": [
        "# sorted data\n",
        "\n",
        "for n in range(10):\n",
        "  N = 3 ** (n + 1)\n",
        "\n",
        "  A = np.arange(N)\n",
        "\n",
        "  start_time = time.perf_counter()\n",
        "  found = quickselect(A, 1)\n",
        "  end_time = time.perf_counter()\n",
        "\n",
        "  print(f\"N: {N} Time: {end_time - start_time} Ratio (N): {(end_time - start_time) / N} Ratio (N^2): {(end_time - start_time) / N**2}\")"
      ],
      "metadata": {
        "colab": {
          "base_uri": "https://localhost:8080/"
        },
        "id": "X_XXKABn9Dk_",
        "outputId": "78acf532-0ebd-46b3-ddc3-470cc842cacc"
      },
      "id": "X_XXKABn9Dk_",
      "execution_count": 71,
      "outputs": [
        {
          "output_type": "stream",
          "name": "stdout",
          "text": [
            "N: 3 Time: 3.14839999191463e-05 Ratio (N): 1.0494666639715433e-05 Ratio (N^2): 3.4982222132384777e-06\n",
            "N: 9 Time: 0.0005189909998080111 Ratio (N): 5.766566664533457e-05 Ratio (N^2): 6.407296293926063e-06\n",
            "N: 27 Time: 3.09359998027503e-05 Ratio (N): 1.1457777704722335e-06 Ratio (N^2): 4.243621372119383e-08\n",
            "N: 81 Time: 5.1267000344523694e-05 Ratio (N): 6.329259301793049e-07 Ratio (N^2): 7.813900372584011e-09\n",
            "N: 243 Time: 0.00014690800026073703 Ratio (N): 6.045596718548849e-07 Ratio (N^2): 2.487899884176481e-09\n",
            "N: 729 Time: 0.00033467299999756506 Ratio (N): 4.5908504800763383e-07 Ratio (N^2): 6.297462935632837e-10\n",
            "N: 2187 Time: 0.0008017810000637837 Ratio (N): 3.6661225425870313e-07 Ratio (N^2): 1.6763248937297812e-10\n",
            "N: 6561 Time: 0.004297782999856281 Ratio (N): 6.550499923573054e-07 Ratio (N^2): 9.983996225534301e-11\n",
            "N: 19683 Time: 0.009275128999888693 Ratio (N): 4.712253721428996e-07 Ratio (N^2): 2.3940729164400732e-11\n",
            "N: 59049 Time: 0.02248513999984425 Ratio (N): 3.8078782028221056e-07 Ratio (N^2): 6.4486751728600066e-12\n"
          ]
        }
      ]
    },
    {
      "cell_type": "code",
      "source": [
        "# randomized data\n",
        "\n",
        "for n in range(10):\n",
        "  N = 3 ** (n + 1)\n",
        "\n",
        "  A = np.arange(0, N)\n",
        "  np.random.shuffle(A)\n",
        "\n",
        "  start_time = time.perf_counter()\n",
        "  found = quickselect(A, 1)\n",
        "  end_time = time.perf_counter()\n",
        "\n",
        "  print(f\"N: {N} Time: {end_time - start_time} Ratio (N): {(end_time - start_time) / N} Ratio (N^2): {(end_time - start_time) / N**2}\")"
      ],
      "metadata": {
        "colab": {
          "base_uri": "https://localhost:8080/"
        },
        "id": "inntr5nO9V1_",
        "outputId": "5d989bac-dad6-49b9-af80-476ede803c5d"
      },
      "id": "inntr5nO9V1_",
      "execution_count": 73,
      "outputs": [
        {
          "output_type": "stream",
          "name": "stdout",
          "text": [
            "N: 3 Time: 3.0358999993040925e-05 Ratio (N): 1.0119666664346974e-05 Ratio (N^2): 3.3732222214489916e-06\n",
            "N: 9 Time: 2.2199000341061037e-05 Ratio (N): 2.4665555934512263e-06 Ratio (N^2): 2.740617326056918e-07\n",
            "N: 27 Time: 3.532699975039577e-05 Ratio (N): 1.3084073981628063e-06 Ratio (N^2): 4.845953326528912e-08\n",
            "N: 81 Time: 8.225900000979891e-05 Ratio (N): 1.0155432099975174e-06 Ratio (N^2): 1.2537570493796511e-08\n",
            "N: 243 Time: 0.00012941200020577526 Ratio (N): 5.325596716287047e-07 Ratio (N^2): 2.1916035869494024e-09\n",
            "N: 729 Time: 0.00035497599992595497 Ratio (N): 4.869355280191426e-07 Ratio (N^2): 6.679499698479323e-10\n",
            "N: 2187 Time: 0.0015633809998689685 Ratio (N): 7.148518517919381e-07 Ratio (N^2): 3.2686412976311754e-10\n",
            "N: 6561 Time: 0.004341107000072952 Ratio (N): 6.616532540882415e-07 Ratio (N^2): 1.0084640361046205e-10\n",
            "N: 19683 Time: 0.012327877999723569 Ratio (N): 6.263210892508037e-07 Ratio (N^2): 3.1820407928202186e-11\n",
            "N: 59049 Time: 0.02466877899996689 Ratio (N): 4.1776793849120033e-07 Ratio (N^2): 7.074936721895381e-12\n"
          ]
        }
      ]
    },
    {
      "cell_type": "code",
      "source": [
        "# reverse sorted data\n",
        "\n",
        "for n in range(10):\n",
        "  N = 3 ** (n + 1)\n",
        "\n",
        "  A = np.arange(N, 0, -1)\n",
        "\n",
        "  start_time = time.perf_counter()\n",
        "  found = quickselect(A, 1)\n",
        "  end_time = time.perf_counter()\n",
        "\n",
        "  print(f\"N: {N} Time: {end_time - start_time} Ratio (N): {(end_time - start_time) / N} Ratio (N^2): {(end_time - start_time) / N**2}\")"
      ],
      "metadata": {
        "colab": {
          "base_uri": "https://localhost:8080/"
        },
        "id": "r28HDXKG9aJt",
        "outputId": "00bebd26-af5a-4c76-97a8-20e70b69eec7"
      },
      "id": "r28HDXKG9aJt",
      "execution_count": 74,
      "outputs": [
        {
          "output_type": "stream",
          "name": "stdout",
          "text": [
            "N: 3 Time: 3.416299978198367e-05 Ratio (N): 1.1387666593994558e-05 Ratio (N^2): 3.7958888646648525e-06\n",
            "N: 9 Time: 2.862900009859004e-05 Ratio (N): 3.181000010954449e-06 Ratio (N^2): 3.534444456616054e-07\n",
            "N: 27 Time: 3.571500019461382e-05 Ratio (N): 1.322777784985697e-06 Ratio (N^2): 4.899176981428508e-08\n",
            "N: 81 Time: 7.951699990371708e-05 Ratio (N): 9.816913568360133e-07 Ratio (N^2): 1.2119646380691522e-08\n",
            "N: 243 Time: 0.00014690400030303863 Ratio (N): 6.045432111236157e-07 Ratio (N^2): 2.4878321445416286e-09\n",
            "N: 729 Time: 0.000495214000238775 Ratio (N): 6.793058988186215e-07 Ratio (N^2): 9.318325086675192e-10\n",
            "N: 2187 Time: 0.0009142230001089047 Ratio (N): 4.1802606314993357e-07 Ratio (N^2): 1.9114131831272682e-10\n",
            "N: 6561 Time: 0.003450980000252457 Ratio (N): 5.259838439647092e-07 Ratio (N^2): 8.01682432502224e-11\n",
            "N: 19683 Time: 0.011313869999867165 Ratio (N): 5.748041457027468e-07 Ratio (N^2): 2.920307604037732e-11\n",
            "N: 59049 Time: 0.027926272000058816 Ratio (N): 4.729338684831041e-07 Ratio (N^2): 8.009176590341989e-12\n"
          ]
        }
      ]
    },
    {
      "cell_type": "markdown",
      "source": [
        "Again, the ratios stabilize for the average case of Θ(N) and not the worst case of O(N^2)"
      ],
      "metadata": {
        "id": "nEOX2Yr2-nGS"
      },
      "id": "nEOX2Yr2-nGS"
    }
  ],
  "metadata": {
    "kernelspec": {
      "display_name": "Python 3",
      "language": "python",
      "name": "python3"
    },
    "language_info": {
      "name": "python",
      "version": "3.14.0"
    },
    "colab": {
      "provenance": []
    }
  },
  "nbformat": 4,
  "nbformat_minor": 5
}