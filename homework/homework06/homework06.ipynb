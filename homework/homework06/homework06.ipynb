{
 "cells": [
  {
   "cell_type": "markdown",
   "id": "cacb8b13",
   "metadata": {},
   "source": [
    "Homework 06 -> Question 2\\\n",
    "Simon Ramsey\\\n",
    "10/30/25"
   ]
  },
  {
   "cell_type": "markdown",
   "id": "c5594dcf",
   "metadata": {},
   "source": [
    "---"
   ]
  },
  {
   "cell_type": "code",
   "execution_count": null,
   "id": "3862b767",
   "metadata": {},
   "outputs": [
    {
     "ename": "",
     "evalue": "",
     "output_type": "error",
     "traceback": [
      "\u001b[1;31mRunning cells with 'Python 3.14.0' requires the ipykernel package.\n",
      "\u001b[1;31m<a href='command:jupyter.createPythonEnvAndSelectController'>Create a Python Environment</a> with the required packages.\n",
      "\u001b[1;31mOr install 'ipykernel' using the command: '/opt/homebrew/bin/python3 -m pip install ipykernel -U --user --force-reinstall'"
     ]
    }
   ],
   "source": [
    "import random\n",
    "import numpy as np"
   ]
  },
  {
   "cell_type": "code",
   "execution_count": null,
   "id": "0a51170f",
   "metadata": {},
   "outputs": [],
   "source": [
    "def quickselect(A, i):\n",
    "  if len(A) == 1:\n",
    "    return A[0]\n",
    "\n",
    "  pivot = random.choice(A)\n",
    "  lows = [x for x in A if x < pivot]\n",
    "  highs = [x for x in A if x > pivot]\n",
    "  pivots = [x for x in A if x == pivot]\n",
    "\n",
    "  if i <= len(lows):\n",
    "    return quickselect(lows, i)\n",
    "  elif i <= len(lows) + len(pivots):\n",
    "    return pivot\n",
    "  else:\n",
    "    return quickselect(highs, i - len(lows) - len(pivots))"
   ]
  },
  {
   "cell_type": "code",
   "execution_count": null,
   "id": "161757ce",
   "metadata": {},
   "outputs": [],
   "source": [
    "# sorted data\n",
    "\n",
    "A = np.arange(0, 100)\n",
    "\n",
    "print(A)"
   ]
  },
  {
   "cell_type": "code",
   "execution_count": null,
   "id": "e3e02084",
   "metadata": {},
   "outputs": [],
   "source": [
    "# randomized data"
   ]
  },
  {
   "cell_type": "code",
   "execution_count": null,
   "id": "1bf27675",
   "metadata": {},
   "outputs": [],
   "source": [
    "# reverse sorted data"
   ]
  }
 ],
 "metadata": {
  "kernelspec": {
   "display_name": "Python 3",
   "language": "python",
   "name": "python3"
  },
  "language_info": {
   "name": "python",
   "version": "3.14.0"
  }
 },
 "nbformat": 4,
 "nbformat_minor": 5
}
